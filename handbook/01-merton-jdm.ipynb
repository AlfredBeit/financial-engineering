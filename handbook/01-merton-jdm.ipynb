{
 "cells": [
  {
   "cell_type": "markdown",
   "metadata": {},
   "source": [
    "# Merton's Jump Diffusion Model (1976)"
   ]
  },
  {
   "cell_type": "markdown",
   "metadata": {},
   "source": [
    "## Overview\n",
    "A _jump diffusion model_ is a mixture model combining a diffusion process with a jump process (Figure 1). In finance, jump diffusion models are introduced by Merton [1], who interprets jumps as _“idiosyncratic shocks affecting individual companies but not the market as a whole”_.\n",
    "\n",
    "#### Figure 1: Sample path of a jump diffusion process\n",
    "<img src=\"img/sample-path-jdm.png\" alt=\"Sample Path of a Jump Diffusion Model\" style=\"width: 500px;\"/>\n",
    "\n",
    "### Stochastic Differential Equation\n",
    "Merton's model specifies the following stochastic differential equation (SDE) for the risky asset:\n",
    "\n",
    "$$\n",
    "\\frac{dS(t)}{S(t-)}= \\mu dt + \\sigma dW(t) + dJ(t)\n",
    "$$\n",
    "\n",
    "with [2]:\n",
    "\n",
    "- $S(t-)$ the value of the stock price right before a potential jump, i.e. $S(t-):=\\lim_{x\\to t-}S(x)$;\n",
    "- $\\mu$, $\\sigma$ constant drift and volatility;\n",
    "- $W$ a one-dimensional standard Brownian motion in $[0,T]$;\n",
    "- $J$ a __jump process__, independent of $W$, with piecewise constant sample paths.\n",
    "\n",
    "### The Jump Component\n",
    "In Merton, $J(t)$ is a _compound Poisson process_ defined by:\n",
    "\n",
    "$$\n",
    "J(t) := \\sum_{j=1}^{N(t)}(Y_j - 1)\n",
    "$$\n",
    "\n",
    "- $N(t)\\sim$ Poisson$(\\lambda t)$ is a counting process representing the total number of jumps which have occurred up to a certain arrival date $t$;\n",
    "\n",
    "- $Y(t)$ is a sequence of multiplicative jumps, i.i.d. random variables (independent of both $N$ and $W$), with $Y_j = \\frac{S(\\tau_j)}{S(\\tau_j-)}$, for all $j \\in \\mathbb{Z} \\cap [1, N(t)]$, and $Y_j - 1$ denoting the size of the jump. The latter is positive if a jump occurs at a particular arrival date $t=\\tau_j$, and null otherwise, since $S(t) = S(t-)$ and $Y_j = 1$, so that $Y_j - 1 = 1 - 1 = 0$.\n",
    "\n",
    "### Solution to the SDE\n",
    "The solution to the SDE is:\n",
    "\n",
    "$$\n",
    "S(t) = S_0\\exp\\bigg\\{\\bigg(\\mu-\\frac{1}{2}\\sigma^2\\bigg)t + \\sigma W(t)\\bigg\\}\\bigg(\\prod_{j=1}^{N(t)}Y_j\\bigg)\n",
    "$$\n",
    "\n",
    "When $\\prod_{j=1}^{N(t)}Y_j = 1$ (absence of jumps), the equation above is the solution to the _geometric Brownian motion_ SDE.\n",
    "\n",
    "### Discretisation and Monte Carlo\n",
    "Discretisation of the solution to the SDE allows to simulate the model using Monte Carlo. The goal of the simulation is to obtain estimates of the expected value and variance for $S(T)$, the stock price at maturity. Such estimates should converge to the theoretical values as the number of simulations increases. Moreover, the probability that the theoretical mean is included in the confidence interval calculated with the Monte Carlo estimates is expected to converge to $1$ as the confidence parameter $\\alpha$ decreases, and as the number of experiments grows.\n",
    "\n",
    "The time interval $[0,T]$ can be subdivided into $\\text{Nsteps}+1$ equally-spaced integer monitoring dates $t_j$, with $t_0=0$, $t_{\\text{Nsteps}}=T$ and:\n",
    "\n",
    "\n",
    "$$\n",
    "t_j := \\frac{jT}{\\text{Nsteps}}, \\quad \\forall j \\in \\mathbb{Z} \\cap [0, \\text{Nsteps}]\n",
    "$$\n",
    "\n",
    "\n",
    "For all integers $j=1,2,\\dots, \\text{Nsteps}$, the difference $t_{j+1}-t_j$ is constant and equal to:\n",
    "\n",
    "\n",
    "$$\n",
    "\\Delta t := t_{j+1} - t_j = \\frac{T}{\\text{Nsteps}}\n",
    "$$\n",
    "\n",
    "\n",
    "A discretised version of the solution to Merton's SDE is then given by the following three formulae:\n",
    "\n",
    "\n",
    "$$\n",
    "S(t_{j+1}) = S(t_j)\\exp\\bigg\\{\\bigg(\\mu-\\frac{1}{2}\\sigma^2\\bigg)\\Delta t + \\sigma Z_1\\sqrt{\\Delta t} + J\\bigg\\}, \\quad Z_1\\sim\\mathcal{N}(0,1), \\quad \\forall t_j \\in [0, T]\n",
    "$$\n",
    "\n",
    "\n",
    "$$\n",
    "J = \\mu_Y N(\\Delta t) + \\sigma_Y Z_2\\sqrt{N(\\Delta t)}, \\quad Z_2\\sim\\mathcal{N}(0,1)\n",
    "$$\n",
    "\n",
    "\n",
    "$$\n",
    "N(\\Delta t) = \\text{Poisson}(\\lambda\\Delta t)\n",
    "$$\n",
    "\n",
    "\n",
    "with $Z_1$ and $Z_2$ two standard Normal random variables independent of each other, $Z_{\\ \\bullet}\\sqrt{\\Delta t}$ a discretised version of the standard Brownian motion $W(t)$, and $\\mu_Y$ and $\\sigma_Y$ the mean and standard deviation of the multiplicative jumps, defined by:\n",
    "\n",
    "$$\n",
    "\\mu_Y = \\mathbb{E}[Y_j] = \\exp\\bigg\\{a + \\frac{1}{2}b^2 \\bigg\\}\n",
    "$$\n",
    "\n",
    "$$\n",
    "\\sigma_Y^2 = \\text{Var}[Y_j] = \\exp\\bigg\\{2a+b^2\\bigg\\}\\bigg(\\exp\\big\\{b^2\\big\\}-1\\bigg)\n",
    "$$\n",
    "\n",
    "with $a$, $b$ such that $\\ln(Y_j)\\sim\\mathcal{N}(a, b^2)$.\n",
    "\n",
    "### Theoretical Moments \n",
    "Closed formulae exist for the expected value and variance of an asset following Merton's SDE. Under the physical probability measure $\\mathbb{P}$:\n",
    "\n",
    "\n",
    "$$\n",
    "M = \\mathbb{E}^{\\mathbb{P}}[S(T)] = S(0)\\exp\\bigg\\{\\mu T + \\lambda T\\big(\\mathbb{E}[Y_j]-1\\big)\\bigg\\}\n",
    "$$\n",
    "\n",
    "\n",
    "$$\n",
    "V = \\text{Var}^{\\mathbb{P}}[S(T)] = S^2(0)\\bigg(\\exp\\bigg\\{\\big(2\\mu+\\sigma^2\\big)T + \\lambda T \\big(\\mathbb{E}[Y_j^2]-1\\big)\\bigg\\}-\\exp\\bigg\\{2\\mu T + 2\\lambda T\\big(\\mathbb{E}[Y_j]-1\\big)\\bigg\\}\\bigg)\n",
    "$$\n",
    "\n",
    "These exact values can be used to monitor the rate of convergence of Monte Carlo estimates as the number of simulated experiments increases, and can help spot errors, if any, in implementing the model."
   ]
  },
  {
   "cell_type": "markdown",
   "metadata": {},
   "source": [
    "## Python Implementation\n",
    "A NumPy implementation of Merton's model is included in `jump_diffusion.py`. Here, we go through the code step by step, and start by importing the necessary libraries into Jupyter."
   ]
  },
  {
   "cell_type": "code",
   "execution_count": 1,
   "metadata": {},
   "outputs": [],
   "source": [
    "import numpy as np\n",
    "from scipy import stats\n",
    "import matplotlib.pyplot as plt\n",
    "import seaborn as sns\n",
    "%config InlineBackend.figure_format='retina'"
   ]
  },
  {
   "cell_type": "markdown",
   "metadata": {},
   "source": [
    "Then, we set the random seed for reproducibility of the results, and define parameter values."
   ]
  },
  {
   "cell_type": "code",
   "execution_count": 2,
   "metadata": {
    "collapsed": true
   },
   "outputs": [],
   "source": [
    "np.random.seed(0)"
   ]
  },
  {
   "cell_type": "markdown",
   "metadata": {},
   "source": [
    "- `S`: initial price of the risky asset, $S_0$;\n",
    "- `X`: the strike price, the price at which the risky asset can be either bought (call) or sold (put) in a derivative contract;\n",
    "- `T`: the maturity of the derivative contract;\n",
    "- `mu`, `sigma`: respectively, the mean $\\mu$ and standard deviation $\\sigma$ of the stock price process;\n",
    "- `Lambda`: the intensity of the Poisson process, $\\lambda$ (`lambda` is a protected keyword in Python);\n",
    "- `a`, `b`: parameters useful to determine $\\mu_Y$ and $\\sigma^2_Y$;\n",
    "- `Nsteps`: the number of monitoring dates;\n",
    "- `Nsim`: the number of simulated experiments;\n",
    "- `alpha`: significance level required to compute confidence intervals."
   ]
  },
  {
   "cell_type": "code",
   "execution_count": 3,
   "metadata": {
    "collapsed": true
   },
   "outputs": [],
   "source": [
    "S = 1\n",
    "X = 1.05\n",
    "T = 1\n",
    "mu = 0.12\n",
    "sigma = 0.3\n",
    "Lambda = 0.25\n",
    "a = 0.2\n",
    "b = 0.2\n",
    "Nsteps = 252\n",
    "Nsim = 1000\n",
    "alpha = 0.05"
   ]
  },
  {
   "cell_type": "markdown",
   "metadata": {},
   "source": [
    "With the values above, $\\Delta t$ is:"
   ]
  },
  {
   "cell_type": "code",
   "execution_count": 4,
   "metadata": {},
   "outputs": [
    {
     "name": "stdout",
     "output_type": "stream",
     "text": [
      "Delta t = 0.003968\n"
     ]
    }
   ],
   "source": [
    "Delta_t = T/Nsteps\n",
    "print('Delta t = {:.6f}'.format(Delta_t))"
   ]
  },
  {
   "cell_type": "markdown",
   "metadata": {},
   "source": [
    "The mean and variance of the multiplicative jumps, $\\mu_Y$ and $\\sigma^2_Y$, are:"
   ]
  },
  {
   "cell_type": "code",
   "execution_count": 5,
   "metadata": {},
   "outputs": [
    {
     "name": "stdout",
     "output_type": "stream",
     "text": [
      "Lognormal mean = 1.246077\n",
      "Lognormal variance = 0.063367\n"
     ]
    }
   ],
   "source": [
    "lognormal_mean = np.exp(a + 0.5*(b**2))\n",
    "lognormal_variance = np.exp(2*a + b**2) * (np.exp(b**2)-1)\n",
    "print('Lognormal mean = {:.6f}'.format(lognormal_mean))\n",
    "print('Lognormal variance = {:.6f}'.format(lognormal_variance))"
   ]
  },
  {
   "cell_type": "markdown",
   "metadata": {},
   "source": [
    "The theoretical mean and variance of the risky asset under Merton's model, $M$ and $V$, are:"
   ]
  },
  {
   "cell_type": "code",
   "execution_count": 6,
   "metadata": {
    "scrolled": true
   },
   "outputs": [
    {
     "name": "stdout",
     "output_type": "stream",
     "text": [
      "Theoretical mean = 1.199038\n",
      "Theoretical variance = 0.184891\n"
     ]
    }
   ],
   "source": [
    "M = S * np.exp(mu*T + Lambda*T*(lognormal_mean-1))\n",
    "V = S**2 * (np.exp((2*mu + sigma**2)*T \\\n",
    "    + Lambda*T*(lognormal_variance + lognormal_mean**2 - 1)) \\\n",
    "    - np.exp(2*mu*T + 2*Lambda*T*(lognormal_mean - 1)))\n",
    "print('Theoretical mean = {:.6f}'.format(M))\n",
    "print('Theoretical variance = {:.6f}'.format(V))"
   ]
  },
  {
   "cell_type": "markdown",
   "metadata": {},
   "source": [
    "## Bibliography\n",
    "[1] Merton, R.C. (1976) _Option pricing when underlying stock returns are discontinuous_, Journal of Financial Economics, 3:125-144\n",
    "\n",
    "[2] Glasserman, P. (2003) _Monte Carlo Methods in Financial Engineering_, Springer Applications of Mathematics, Vol. 53"
   ]
  }
 ],
 "metadata": {
  "kernelspec": {
   "display_name": "Python [conda root]",
   "language": "python",
   "name": "conda-root-py"
  },
  "language_info": {
   "codemirror_mode": {
    "name": "ipython",
    "version": 3
   },
   "file_extension": ".py",
   "mimetype": "text/x-python",
   "name": "python",
   "nbconvert_exporter": "python",
   "pygments_lexer": "ipython3",
   "version": "3.6.2"
  }
 },
 "nbformat": 4,
 "nbformat_minor": 2
}
